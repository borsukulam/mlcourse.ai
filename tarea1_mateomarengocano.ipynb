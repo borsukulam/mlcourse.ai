{
 "cells": [
  {
   "cell_type": "markdown",
   "metadata": {},
   "source": [
    "\n",
    "<center>\n",
    "<img src=\"images/ods_stickers.jpg\" />\n",
    "    \n",
    "# Inferencia Estadística  2021\n",
    "\n",
    "Basado en material de  [Yury Kashnitsky](https://yorko.github.io). Traducido y editado al español por [Ana Georgina Flesia](https://www.linkedin.com/in/georginaflesia/). Este material esta sujeto a los términos y condiciones de la licencia  [Creative Commons CC BY-NC-SA 4.0](https://creativecommons.org/licenses/by-nc-sa/4.0/). Se permite el uso irrestricto para todo propósito no comercial."
   ]
  },
  {
   "cell_type": "markdown",
   "metadata": {},
   "source": [
    "# Ejercicio 1. Análisis exploratorio con Pandas\n",
    "\n",
    "<img src=\"images/pandas.jpg\"  width=50% />\n"
   ]
  },
  {
   "cell_type": "markdown",
   "metadata": {},
   "source": [
    "**En esta tarea se tiene que usar Pandas para responder preguntas sobre el  dataset [Adult](https://archive.ics.uci.edu/ml/datasets/Adult). **"
   ]
  },
  {
   "cell_type": "markdown",
   "metadata": {},
   "source": [
    "Variables y su tipo:\n",
    "- `age`: continuous.\n",
    "- `workclass`: Private, Self-emp-not-inc, Self-emp-inc, Federal-gov, Local-gov, State-gov, Without-pay, Never-worked.\n",
    "- `fnlwgt`: continuous.\n",
    "- `education`: Bachelors, Some-college, 11th, HS-grad, Prof-school, Assoc-acdm, Assoc-voc, 9th, 7th-8th, 12th, Masters, 1st-4th, 10th, Doctorate, 5th-6th, Preschool.\n",
    "- `education-num`: continuous.\n",
    "- `marital-status`: Married-civ-spouse, Divorced, Never-married, Separated, Widowed, Married-spouse-absent, Married-AF-spouse.\n",
    "- `occupation`: Tech-support, Craft-repair, Other-service, Sales, Exec-managerial, Prof-specialty, Handlers-cleaners, Machine-op-inspct, Adm-clerical, Farming-fishing, Transport-moving, Priv-house-serv, Protective-serv, Armed-Forces.\n",
    "- `relationship`: Wife, Own-child, Husband, Not-in-family, Other-relative, Unmarried.\n",
    "- `race`: White, Asian-Pac-Islander, Amer-Indian-Eskimo, Other, Black.\n",
    "- `sex`: Female, Male.\n",
    "- `capital-gain`: continuous.\n",
    "- `capital-loss`: continuous.\n",
    "- `hours-per-week`: continuous.\n",
    "- `native-country`: United-States, Cambodia, England, Puerto-Rico, Canada, Germany, Outlying-US(Guam-USVI-etc), India, Japan, Greece, South, China, Cuba, Iran, Honduras, Philippines, Italy, Poland, Jamaica, Vietnam, Mexico, Portugal, Ireland, France, Dominican-Republic, Laos, Ecuador, Taiwan, Haiti, Columbia, Hungary, Guatemala, Nicaragua, Scotland, Thailand, Yugoslavia, El-Salvador, Trinadad&Tobago, Peru, Hong, Holand-Netherlands.   \n",
    "- `salary`: >50K,<=50K"
   ]
  },
  {
   "cell_type": "code",
   "execution_count": 1,
   "metadata": {},
   "outputs": [],
   "source": [
    "import numpy as np\n",
    "import pandas as pd\n",
    "pd.set_option('display.max.columns', 100)\n",
    "# para dibujar gráficos en jupyter notebook\n",
    "%matplotlib inline \n",
    "import matplotlib.pyplot as plt\n",
    "import seaborn as sns\n",
    "# no nos gunstan los avisos\n",
    "# se puden comentar las dos lineas si se quiere tener avisos\n",
    "import warnings\n",
    "warnings.filterwarnings('ignore')"
   ]
  },
  {
   "cell_type": "code",
   "execution_count": 37,
   "metadata": {},
   "outputs": [
    {
     "data": {
      "text/html": [
       "<div>\n",
       "<style scoped>\n",
       "    .dataframe tbody tr th:only-of-type {\n",
       "        vertical-align: middle;\n",
       "    }\n",
       "\n",
       "    .dataframe tbody tr th {\n",
       "        vertical-align: top;\n",
       "    }\n",
       "\n",
       "    .dataframe thead th {\n",
       "        text-align: right;\n",
       "    }\n",
       "</style>\n",
       "<table border=\"1\" class=\"dataframe\">\n",
       "  <thead>\n",
       "    <tr style=\"text-align: right;\">\n",
       "      <th></th>\n",
       "      <th>age</th>\n",
       "      <th>workclass</th>\n",
       "      <th>fnlwgt</th>\n",
       "      <th>education</th>\n",
       "      <th>education-num</th>\n",
       "      <th>marital-status</th>\n",
       "      <th>occupation</th>\n",
       "      <th>relationship</th>\n",
       "      <th>race</th>\n",
       "      <th>sex</th>\n",
       "      <th>capital-gain</th>\n",
       "      <th>capital-loss</th>\n",
       "      <th>hours-per-week</th>\n",
       "      <th>native-country</th>\n",
       "      <th>salary</th>\n",
       "    </tr>\n",
       "  </thead>\n",
       "  <tbody>\n",
       "    <tr>\n",
       "      <th>0</th>\n",
       "      <td>39</td>\n",
       "      <td>State-gov</td>\n",
       "      <td>77516</td>\n",
       "      <td>Bachelors</td>\n",
       "      <td>13</td>\n",
       "      <td>Never-married</td>\n",
       "      <td>Adm-clerical</td>\n",
       "      <td>Not-in-family</td>\n",
       "      <td>White</td>\n",
       "      <td>Male</td>\n",
       "      <td>2174</td>\n",
       "      <td>0</td>\n",
       "      <td>40</td>\n",
       "      <td>United-States</td>\n",
       "      <td>&lt;=50K</td>\n",
       "    </tr>\n",
       "    <tr>\n",
       "      <th>1</th>\n",
       "      <td>50</td>\n",
       "      <td>Self-emp-not-inc</td>\n",
       "      <td>83311</td>\n",
       "      <td>Bachelors</td>\n",
       "      <td>13</td>\n",
       "      <td>Married-civ-spouse</td>\n",
       "      <td>Exec-managerial</td>\n",
       "      <td>Husband</td>\n",
       "      <td>White</td>\n",
       "      <td>Male</td>\n",
       "      <td>0</td>\n",
       "      <td>0</td>\n",
       "      <td>13</td>\n",
       "      <td>United-States</td>\n",
       "      <td>&lt;=50K</td>\n",
       "    </tr>\n",
       "    <tr>\n",
       "      <th>2</th>\n",
       "      <td>38</td>\n",
       "      <td>Private</td>\n",
       "      <td>215646</td>\n",
       "      <td>HS-grad</td>\n",
       "      <td>9</td>\n",
       "      <td>Divorced</td>\n",
       "      <td>Handlers-cleaners</td>\n",
       "      <td>Not-in-family</td>\n",
       "      <td>White</td>\n",
       "      <td>Male</td>\n",
       "      <td>0</td>\n",
       "      <td>0</td>\n",
       "      <td>40</td>\n",
       "      <td>United-States</td>\n",
       "      <td>&lt;=50K</td>\n",
       "    </tr>\n",
       "    <tr>\n",
       "      <th>3</th>\n",
       "      <td>53</td>\n",
       "      <td>Private</td>\n",
       "      <td>234721</td>\n",
       "      <td>11th</td>\n",
       "      <td>7</td>\n",
       "      <td>Married-civ-spouse</td>\n",
       "      <td>Handlers-cleaners</td>\n",
       "      <td>Husband</td>\n",
       "      <td>Black</td>\n",
       "      <td>Male</td>\n",
       "      <td>0</td>\n",
       "      <td>0</td>\n",
       "      <td>40</td>\n",
       "      <td>United-States</td>\n",
       "      <td>&lt;=50K</td>\n",
       "    </tr>\n",
       "    <tr>\n",
       "      <th>4</th>\n",
       "      <td>28</td>\n",
       "      <td>Private</td>\n",
       "      <td>338409</td>\n",
       "      <td>Bachelors</td>\n",
       "      <td>13</td>\n",
       "      <td>Married-civ-spouse</td>\n",
       "      <td>Prof-specialty</td>\n",
       "      <td>Wife</td>\n",
       "      <td>Black</td>\n",
       "      <td>Female</td>\n",
       "      <td>0</td>\n",
       "      <td>0</td>\n",
       "      <td>40</td>\n",
       "      <td>Cuba</td>\n",
       "      <td>&lt;=50K</td>\n",
       "    </tr>\n",
       "  </tbody>\n",
       "</table>\n",
       "</div>"
      ],
      "text/plain": [
       "   age         workclass  fnlwgt  education  education-num  \\\n",
       "0   39         State-gov   77516  Bachelors             13   \n",
       "1   50  Self-emp-not-inc   83311  Bachelors             13   \n",
       "2   38           Private  215646    HS-grad              9   \n",
       "3   53           Private  234721       11th              7   \n",
       "4   28           Private  338409  Bachelors             13   \n",
       "\n",
       "       marital-status         occupation   relationship   race     sex  \\\n",
       "0       Never-married       Adm-clerical  Not-in-family  White    Male   \n",
       "1  Married-civ-spouse    Exec-managerial        Husband  White    Male   \n",
       "2            Divorced  Handlers-cleaners  Not-in-family  White    Male   \n",
       "3  Married-civ-spouse  Handlers-cleaners        Husband  Black    Male   \n",
       "4  Married-civ-spouse     Prof-specialty           Wife  Black  Female   \n",
       "\n",
       "   capital-gain  capital-loss  hours-per-week native-country salary  \n",
       "0          2174             0              40  United-States  <=50K  \n",
       "1             0             0              13  United-States  <=50K  \n",
       "2             0             0              40  United-States  <=50K  \n",
       "3             0             0              40  United-States  <=50K  \n",
       "4             0             0              40           Cuba  <=50K  "
      ]
     },
     "execution_count": 37,
     "metadata": {},
     "output_type": "execute_result"
    }
   ],
   "source": [
    "data = pd.read_csv('data/adult.data.csv')\n",
    "data.head()"
   ]
  },
  {
   "cell_type": "markdown",
   "metadata": {},
   "source": [
    "**1. ¿Cuantas mujeres y hombres (variable *sex* ) estan representadas en este dataset?** "
   ]
  },
  {
   "cell_type": "code",
   "execution_count": 3,
   "metadata": {},
   "outputs": [
    {
     "data": {
      "text/plain": [
       "Male      21790\n",
       "Female    10771\n",
       "Name: sex, dtype: int64"
      ]
     },
     "execution_count": 3,
     "metadata": {},
     "output_type": "execute_result"
    }
   ],
   "source": [
    "data['sex'].value_counts()"
   ]
  },
  {
   "cell_type": "markdown",
   "metadata": {},
   "source": [
    "**2. ¿Cual es la edad promedio (variable *age* ) de las mujeres?**"
   ]
  },
  {
   "cell_type": "code",
   "execution_count": 4,
   "metadata": {},
   "outputs": [
    {
     "data": {
      "text/plain": [
       "36.85823043357163"
      ]
     },
     "execution_count": 4,
     "metadata": {},
     "output_type": "execute_result"
    }
   ],
   "source": [
    "data.loc[data['sex'].str.strip().str.lower() == \"female\"]['age'].mean()"
   ]
  },
  {
   "cell_type": "markdown",
   "metadata": {},
   "source": [
    "**3. ¿Cual es el porcentaje de ciudadanos alemanes (variable *native-country*)?**"
   ]
  },
  {
   "cell_type": "code",
   "execution_count": 11,
   "metadata": {},
   "outputs": [
    {
     "data": {
      "text/plain": [
       "0.42074874850281013"
      ]
     },
     "execution_count": 11,
     "metadata": {},
     "output_type": "execute_result"
    }
   ],
   "source": [
    "(data['native-country'].str.strip().str.lower() == 'germany').sum() / sum(data['native-country'] != '') * 100"
   ]
  },
  {
   "cell_type": "markdown",
   "metadata": {},
   "source": [
    "**4. ¿Cuales son la media y la desviacion estandard de la edad para aquellos que ganan mas de 50k por año (variable *salary*) ?**"
   ]
  },
  {
   "cell_type": "code",
   "execution_count": 26,
   "metadata": {},
   "outputs": [
    {
     "name": "stdout",
     "output_type": "stream",
     "text": [
      "La media de edad para aquellos que ganan más de 50k por año es de 44.25, y la desviación estandard es de 10.52\n"
     ]
    }
   ],
   "source": [
    "data_rich = data[data['salary'].str.strip().str.lower() == '>50k']\n",
    "print('La media de edad para aquellos que ganan más de 50k por año es de ' + str(round(data_rich['age'].mean(),2)) + ', y la desviación estandard es de ' + str(round(data_rich['age'].std(),2)))"
   ]
  },
  {
   "cell_type": "markdown",
   "metadata": {},
   "source": [
    "**5. ¿Cuales son la media y la desviacion estandard de la edad para aquellos que ganan menos de 50k por año (variable *salary*)?**"
   ]
  },
  {
   "cell_type": "code",
   "execution_count": 27,
   "metadata": {},
   "outputs": [
    {
     "name": "stdout",
     "output_type": "stream",
     "text": [
      "La media de edad para aquellos que ganan menos de 50k por año es de 36.78, y la desviación estandard es de 14.02\n"
     ]
    }
   ],
   "source": [
    "data_not_rich = data[data['salary'].str.strip().str.lower() != '>50k']\n",
    "print('La media de edad para aquellos que ganan menos de 50k por año es de ' + str(round(data_not_rich['age'].mean(),2)) + ', y la desviación estandard es de ' + str(round(data_not_rich['age'].std(),2)))"
   ]
  },
  {
   "cell_type": "markdown",
   "metadata": {},
   "source": [
    "**6. ¿Es cierto que la gente que gana mas que 50K tiene al menos educacion media completa? (variable *education – Bachelors, Prof-school, Assoc-acdm, Assoc-voc, Masters* or *Doctorate*)**"
   ]
  },
  {
   "cell_type": "code",
   "execution_count": 38,
   "metadata": {},
   "outputs": [
    {
     "data": {
      "text/plain": [
       "False"
      ]
     },
     "execution_count": 38,
     "metadata": {},
     "output_type": "execute_result"
    }
   ],
   "source": [
    "data_50k = data[data['salary'].str.strip().str.lower() == '>50k']\n",
    "list = ['bachelors','prof-school','assoc-acdm','assoc-voc','masters','doctorate']\n",
    "data_50k['education'].str.strip().str.lower().isin(list).all()"
   ]
  },
  {
   "cell_type": "markdown",
   "metadata": {},
   "source": [
    "**7. Muestre los estadisticos para cada raza (*race* feature) y cada género (*sex* feature). Use *groupby()* y *describe()*. Encuentre la edad maxima de los hombres de la raza *Amer-Indian-Eskimo*.**"
   ]
  },
  {
   "cell_type": "code",
   "execution_count": 46,
   "metadata": {},
   "outputs": [
    {
     "name": "stdout",
     "output_type": "stream",
     "text": [
      "Los estadísticos para cada raza son:\n",
      "                        age                                                \\\n",
      "                      count       mean        std   min   25%   50%   75%   \n",
      "race                                                                        \n",
      "Amer-Indian-Eskimo    311.0  37.173633  12.447130  17.0  28.0  35.0  45.5   \n",
      "Asian-Pac-Islander   1039.0  37.746872  12.825133  17.0  28.0  36.0  45.0   \n",
      "Black                3124.0  37.767926  12.759290  17.0  28.0  36.0  46.0   \n",
      "Other                 271.0  33.457565  11.538865  17.0  25.0  31.0  41.0   \n",
      "White               27816.0  38.769881  13.782306  17.0  28.0  37.0  48.0   \n",
      "\n",
      "                           fnlwgt                                         \\\n",
      "                     max    count           mean            std      min   \n",
      "race                                                                       \n",
      "Amer-Indian-Eskimo  82.0    311.0  120831.147910   88338.636336  12285.0   \n",
      "Asian-Pac-Islander  90.0   1039.0  159940.609240   85122.307505  14878.0   \n",
      "Black               90.0   3124.0  228013.124200  123600.677422  19752.0   \n",
      "Other               77.0    271.0  197124.191882   88856.775370  24562.0   \n",
      "White               90.0  27816.0  187298.064280  103124.944196  18827.0   \n",
      "\n",
      "                                                            education-num  \\\n",
      "                         25%       50%       75%        max         count   \n",
      "race                                                                        \n",
      "Amer-Indian-Eskimo   35036.5  102541.0  176142.0   445168.0         311.0   \n",
      "Asian-Pac-Islander   93321.0  143098.0  194456.0   506329.0        1039.0   \n",
      "Black               148212.0  205934.0  281693.0  1268339.0        3124.0   \n",
      "Other               138103.0  188793.0  240091.0   481175.0         271.0   \n",
      "White               116902.5  177627.0  233542.5  1484705.0       27816.0   \n",
      "\n",
      "                                                                     \\\n",
      "                         mean       std  min  25%   50%   75%   max   \n",
      "race                                                                  \n",
      "Amer-Indian-Eskimo   9.311897  2.310387  2.0  9.0   9.0  10.0  16.0   \n",
      "Asian-Pac-Islander  10.960539  2.811582  1.0  9.0  10.0  13.0  16.0   \n",
      "Black                9.486236  2.297893  1.0  9.0   9.0  10.0  16.0   \n",
      "Other                8.841328  3.226153  1.0  7.5   9.0  10.0  16.0   \n",
      "White               10.135246  2.570307  1.0  9.0  10.0  13.0  16.0   \n",
      "\n",
      "                   capital-gain                                                \\\n",
      "                          count         mean          std  min  25%  50%  75%   \n",
      "race                                                                            \n",
      "Amer-Indian-Eskimo        311.0   625.266881  2753.238961  0.0  0.0  0.0  0.0   \n",
      "Asian-Pac-Islander       1039.0  1478.358037  9986.156906  0.0  0.0  0.0  0.0   \n",
      "Black                    3124.0   609.940461  5139.653447  0.0  0.0  0.0  0.0   \n",
      "Other                     271.0   934.660517  8625.128995  0.0  0.0  0.0  0.0   \n",
      "White                   27816.0  1121.660375  7504.533302  0.0  0.0  0.0  0.0   \n",
      "\n",
      "                            capital-loss                                   \\\n",
      "                        max        count       mean         std  min  25%   \n",
      "race                                                                        \n",
      "Amer-Indian-Eskimo  27828.0        311.0  34.176849  245.583106  0.0  0.0   \n",
      "Asian-Pac-Islander  99999.0       1039.0  97.222329  423.556931  0.0  0.0   \n",
      "Black               99999.0       3124.0  60.385083  337.394121  0.0  0.0   \n",
      "Other               99999.0        271.0  61.070111  322.452705  0.0  0.0   \n",
      "White               99999.0      27816.0  90.806155  410.833347  0.0  0.0   \n",
      "\n",
      "                                     hours-per-week                        \\\n",
      "                    50%  75%     max          count       mean        std   \n",
      "race                                                                        \n",
      "Amer-Indian-Eskimo  0.0  0.0  1980.0          311.0  40.048232  11.695364   \n",
      "Asian-Pac-Islander  0.0  0.0  2457.0         1039.0  40.127045  12.556816   \n",
      "Black               0.0  0.0  4356.0         3124.0  38.422855  10.315646   \n",
      "Other               0.0  0.0  2179.0          271.0  39.468635  11.143755   \n",
      "White               0.0  0.0  4356.0        27816.0  40.689100  12.544796   \n",
      "\n",
      "                                                 \n",
      "                    min   25%   50%   75%   max  \n",
      "race                                             \n",
      "Amer-Indian-Eskimo  3.0  40.0  40.0  40.0  84.0  \n",
      "Asian-Pac-Islander  1.0  40.0  40.0  40.0  99.0  \n",
      "Black               1.0  37.0  40.0  40.0  99.0  \n",
      "Other               5.0  36.0  40.0  40.0  98.0  \n",
      "White               1.0  40.0  40.0  45.0  99.0  \n",
      "Los estadísticos para cada género son:\n",
      "            age                                                       fnlwgt  \\\n",
      "          count       mean        std   min   25%   50%   75%   max    count   \n",
      "sex                                                                            \n",
      "Female  10771.0  36.858230  14.013697  17.0  25.0  35.0  46.0  90.0  10771.0   \n",
      "Male    21790.0  39.433547  13.370630  17.0  29.0  38.0  48.0  90.0  21790.0   \n",
      "\n",
      "                                                                               \\\n",
      "                 mean            std      min        25%       50%        75%   \n",
      "sex                                                                             \n",
      "Female  185746.311206  102986.078821  12285.0  117363.00  176077.0  228331.50   \n",
      "Male    191771.449013  106740.702676  13769.0  118200.75  180140.0  241146.25   \n",
      "\n",
      "                  education-num                                             \\\n",
      "              max         count       mean       std  min  25%   50%   75%   \n",
      "sex                                                                          \n",
      "Female  1484705.0       10771.0  10.035744  2.379954  1.0  9.0  10.0  12.0   \n",
      "Male    1455435.0       21790.0  10.102891  2.662630  1.0  9.0  10.0  13.0   \n",
      "\n",
      "             capital-gain                                                \\\n",
      "         max        count         mean          std  min  25%  50%  75%   \n",
      "sex                                                                       \n",
      "Female  16.0      10771.0   568.410547  4924.262944  0.0  0.0  0.0  0.0   \n",
      "Male    16.0      21790.0  1329.370078  8326.312095  0.0  0.0  0.0  0.0   \n",
      "\n",
      "                capital-loss                                              \\\n",
      "            max        count        mean         std  min  25%  50%  75%   \n",
      "sex                                                                        \n",
      "Female  99999.0      10771.0   61.187633  340.907518  0.0  0.0  0.0  0.0   \n",
      "Male    99999.0      21790.0  100.213309  429.763097  0.0  0.0  0.0  0.0   \n",
      "\n",
      "               hours-per-week                                               \\\n",
      "           max          count       mean        std  min   25%   50%   75%   \n",
      "sex                                                                          \n",
      "Female  4356.0        10771.0  36.410361  11.811300  1.0  30.0  40.0  40.0   \n",
      "Male    3770.0        21790.0  42.428086  12.119755  1.0  40.0  40.0  49.0   \n",
      "\n",
      "              \n",
      "         max  \n",
      "sex           \n",
      "Female  99.0  \n",
      "Male    99.0  \n"
     ]
    }
   ],
   "source": [
    "print('Los estadísticos para cada raza son:')\n",
    "print(data.groupby('race').describe())\n",
    "print('Los estadísticos para cada género son:')\n",
    "print(data.groupby('sex').describe())"
   ]
  },
  {
   "cell_type": "markdown",
   "metadata": {},
   "source": [
    "**8. De las siguientes categorías, ¿cual es la que tiene la mayor proporcion de ricos (>50K): married or single men (variable *marital-status*)? Considere como casados  aquellos que tienen *marital-status* comenzando por *Married* (Married-civ-spouse, Married-spouse-absent or Married-AF-spouse), el resto son bachelors.**"
   ]
  },
  {
   "cell_type": "code",
   "execution_count": 69,
   "metadata": {},
   "outputs": [
    {
     "name": "stdout",
     "output_type": "stream",
     "text": [
      "Los casados son mayoría entre los ricos\n"
     ]
    }
   ],
   "source": [
    "a = data.loc[data['marital-status'].str.strip().str.lower().str.startswith('married')]['salary'].value_counts().get('>50K')\n",
    "b = data.loc[~data['marital-status'].str.strip().str.lower().str.startswith('married')]['salary'].value_counts().get('>50K')\n",
    "\n",
    "if a>b:\n",
    "    print('Los casados son mayoría entre los ricos')\n",
    "elif a<b:\n",
    "    print('Los solteros son mayoría entre los ricos')\n",
    "else:\n",
    "    print('Hay la misma proporción')"
   ]
  },
  {
   "cell_type": "markdown",
   "metadata": {},
   "source": [
    "**9. ¿Cual es el máximo de horas que una persona trabaja por semana? (variable *hours-per-week*)? ¿Cuantas personas trabajan ese numero de horas y cual es el porcentaje entre esas personas que ademas ganan mucho (>50K) ?**"
   ]
  },
  {
   "cell_type": "code",
   "execution_count": 80,
   "metadata": {},
   "outputs": [
    {
     "name": "stdout",
     "output_type": "stream",
     "text": [
      "El máximo de horas que trabaja una persona por semana es 99\n",
      "Hay 85 personas que trabajan el máximo de horas\n",
      "De las cuales un 29.411764705882355% gana más de 50k\n"
     ]
    }
   ],
   "source": [
    "maxh = data['hours-per-week'].max()\n",
    "cant_maxh = data[data['hours-per-week']==data['hours-per-week'].max()].shape[0]\n",
    "maxh_rich = data[(data['hours-per-week'] == maxh) & (data['salary'] == '>50K')].shape[0]\n",
    "print('El máximo de horas que trabaja una persona por semana es ' + str(maxh))\n",
    "print('Hay ' + str(cant_maxh) + ' personas que trabajan el máximo de horas')\n",
    "print('De las cuales un ' + str(maxh_rich / cant_maxh *100) + '% gana más de 50k')"
   ]
  },
  {
   "cell_type": "markdown",
   "metadata": {},
   "source": [
    "**10. Cuente en promedio el numero de horas de trabajo (*hours-per-week*) de aquellos que ganan poco, y de los que ganan mucho (*salary*) para cada pais (*native-country*). ¿Cuales son esos conteos medios para Japon?**"
   ]
  },
  {
   "cell_type": "code",
   "execution_count": 87,
   "metadata": {},
   "outputs": [
    {
     "name": "stdout",
     "output_type": "stream",
     "text": [
      "El promedio de horas de aquellos que ganan poco por país es:\n",
      "native-country\n",
      "?                             40.164760\n",
      "Cambodia                      41.416667\n",
      "Canada                        37.914634\n",
      "China                         37.381818\n",
      "Columbia                      38.684211\n",
      "Cuba                          37.985714\n",
      "Dominican-Republic            42.338235\n",
      "Ecuador                       38.041667\n",
      "El-Salvador                   36.030928\n",
      "England                       40.483333\n",
      "France                        41.058824\n",
      "Germany                       39.139785\n",
      "Greece                        41.809524\n",
      "Guatemala                     39.360656\n",
      "Haiti                         36.325000\n",
      "Holand-Netherlands            40.000000\n",
      "Honduras                      34.333333\n",
      "Hong                          39.142857\n",
      "Hungary                       31.300000\n",
      "India                         38.233333\n",
      "Iran                          41.440000\n",
      "Ireland                       40.947368\n",
      "Italy                         39.625000\n",
      "Jamaica                       38.239437\n",
      "Japan                         41.000000\n",
      "Laos                          40.375000\n",
      "Mexico                        40.003279\n",
      "Nicaragua                     36.093750\n",
      "Outlying-US(Guam-USVI-etc)    41.857143\n",
      "Peru                          35.068966\n",
      "Philippines                   38.065693\n",
      "Poland                        38.166667\n",
      "Portugal                      41.939394\n",
      "Puerto-Rico                   38.470588\n",
      "Scotland                      39.444444\n",
      "South                         40.156250\n",
      "Taiwan                        33.774194\n",
      "Thailand                      42.866667\n",
      "Trinadad&Tobago               37.058824\n",
      "United-States                 38.799127\n",
      "Vietnam                       37.193548\n",
      "Yugoslavia                    41.600000\n",
      "Name: hours-per-week, dtype: float64\n",
      "El promedio de horas de aquellos que ganan mucho por país es:\n",
      "native-country\n",
      "?                     45.547945\n",
      "Cambodia              40.000000\n",
      "Canada                45.641026\n",
      "China                 38.900000\n",
      "Columbia              50.000000\n",
      "Cuba                  42.440000\n",
      "Dominican-Republic    47.000000\n",
      "Ecuador               48.750000\n",
      "El-Salvador           45.000000\n",
      "England               44.533333\n",
      "France                50.750000\n",
      "Germany               44.977273\n",
      "Greece                50.625000\n",
      "Guatemala             36.666667\n",
      "Haiti                 42.750000\n",
      "Honduras              60.000000\n",
      "Hong                  45.000000\n",
      "Hungary               50.000000\n",
      "India                 46.475000\n",
      "Iran                  47.500000\n",
      "Ireland               48.000000\n",
      "Italy                 45.400000\n",
      "Jamaica               41.100000\n",
      "Japan                 47.958333\n",
      "Laos                  40.000000\n",
      "Mexico                46.575758\n",
      "Nicaragua             37.500000\n",
      "Peru                  40.000000\n",
      "Philippines           43.032787\n",
      "Poland                39.000000\n",
      "Portugal              41.500000\n",
      "Puerto-Rico           39.416667\n",
      "Scotland              46.666667\n",
      "South                 51.437500\n",
      "Taiwan                46.800000\n",
      "Thailand              58.333333\n",
      "Trinadad&Tobago       40.000000\n",
      "United-States         45.505369\n",
      "Vietnam               39.200000\n",
      "Yugoslavia            49.500000\n",
      "Name: hours-per-week, dtype: float64\n",
      "En Japón la media de horas de trabajo para los que ganan poco es de 41.0 y para los que ganan mucho es de 47.958333333333336\n"
     ]
    }
   ],
   "source": [
    "print('El promedio de horas de aquellos que ganan poco por país es:')\n",
    "print(data.loc[data['salary'] == '<=50K'].groupby('native-country')['hours-per-week'].mean())\n",
    "print('El promedio de horas de aquellos que ganan mucho por país es:')\n",
    "print(data.loc[data['salary'] == '>50K'].groupby('native-country')['hours-per-week'].mean())\n",
    "\n",
    "print('En Japón la media de horas de trabajo para los que ganan poco es de ' + \n",
    "      str(data.loc[data['salary'] == '<=50K'].groupby('native-country').get_group('Japan')['hours-per-week'].mean()) + \n",
    "      ' y para los que ganan mucho es de ' +\n",
    "      str(data.loc[data['salary'] == '>50K'].groupby('native-country').get_group('Japan')['hours-per-week'].mean()))\n"
   ]
  },
  {
   "cell_type": "code",
   "execution_count": null,
   "metadata": {},
   "outputs": [],
   "source": []
  }
 ],
 "metadata": {
  "anaconda-cloud": {},
  "kernelspec": {
   "display_name": "Python 3 (ipykernel)",
   "language": "python",
   "name": "python3"
  },
  "language_info": {
   "codemirror_mode": {
    "name": "ipython",
    "version": 3
   },
   "file_extension": ".py",
   "mimetype": "text/x-python",
   "name": "python",
   "nbconvert_exporter": "python",
   "pygments_lexer": "ipython3",
   "version": "3.10.9"
  }
 },
 "nbformat": 4,
 "nbformat_minor": 1
}
